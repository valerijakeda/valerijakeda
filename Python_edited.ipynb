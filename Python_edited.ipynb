{
  "cells": [
    {
      "cell_type": "markdown",
      "metadata": {
        "id": "view-in-github",
        "colab_type": "text"
      },
      "source": [
        "<a href=\"https://colab.research.google.com/github/valerijakeda/valerijakeda/blob/main/Python_edited.ipynb\" target=\"_parent\"><img src=\"https://colab.research.google.com/assets/colab-badge.svg\" alt=\"Open In Colab\"/></a>"
      ]
    },
    {
      "cell_type": "markdown",
      "source": [
        "**RFM Segmentation Code**"
      ],
      "metadata": {
        "id": "HWl61syD1HOC"
      }
    },
    {
      "cell_type": "markdown",
      "source": [
        "**First Step:** importing libraries we will need for this analysis"
      ],
      "metadata": {
        "id": "AAeArdnZ1T1n"
      }
    },
    {
      "cell_type": "code",
      "source": [
        "import pandas as pd\n",
        "import numpy as np\n",
        "import matplotlib.pyplot as plt\n",
        "import datetime as dt\n",
        "from statistics import mean \n",
        "import seaborn as sns\n",
        "import warnings\n",
        "warnings.filterwarnings('ignore')"
      ],
      "metadata": {
        "id": "_1Q6cOyZA26X"
      },
      "execution_count": 209,
      "outputs": []
    },
    {
      "cell_type": "markdown",
      "source": [
        "**Second Step:** creating segment dictionary"
      ],
      "metadata": {
        "id": "5alUvdBO1jdW"
      }
    },
    {
      "cell_type": "code",
      "source": [
        "def creating_segments():\n",
        "  \"\"\"Function that assigns segmenting keys to a dictionary\n",
        "  \"\"\"\n",
        "  seg_map = {}\n",
        "  for key in ['311', '312', '313', '314', '411', '412', '413', '414']:\n",
        "    seg_map[key] =  'New Customers'\n",
        "  for key in ['111', '112']:\n",
        "    seg_map[key] = 'Lost'\n",
        "  for key in ['114', '113', '123', '124', '133', '134', '144', '143', '213', '214', '223', '224', '233', '234', '243', '244']:\n",
        "    seg_map[key] = 'Can\\'t Lose'\n",
        "  for key in ['121', '122', '131', '132', '141', '142', '211', '212', '221', '222', '231', '232', '241', '242']:\n",
        "    seg_map[key] = 'Need Attention'\n",
        "  for key in ['321', '322','331', '332','341','342', '421', '422', '431', '432', '441', '442']:\n",
        "    seg_map[key] = 'Good Customers'\n",
        "  for key in ['323', '324', '423', '424']:\n",
        "    seg_map[key] = 'Potential Loyalists'\n",
        "  for key in ['333', '334', '343', '433', '434', '443', '344']:\n",
        "    seg_map[key] = 'Loyal Customers'\n",
        "  seg_map['444'] = 'Champions'\n",
        "  return seg_map"
      ],
      "metadata": {
        "id": "yQkUnrAkyG5J"
      },
      "execution_count": 210,
      "outputs": []
    },
    {
      "cell_type": "code",
      "source": [
        "seg_map = creating_segments() "
      ],
      "metadata": {
        "id": "vuka1Z4v1qOI"
      },
      "execution_count": 211,
      "outputs": []
    },
    {
      "cell_type": "markdown",
      "source": [
        "**Third Step:** importing the dataframe we need from BigQuery\n",
        "Note: authentication from the account you use for BigQuery is required to access the database"
      ],
      "metadata": {
        "id": "MBD3Elji12Db"
      }
    },
    {
      "cell_type": "code",
      "source": [
        "def import_dataframe_bigquery (database_name, data_frame_index, project_id = 'tc-da-1'):\n",
        "  \"\"\"Function that imports a dataframe from a given database in BigQuery\n",
        "  The default project_id is 'tc-da-1'\n",
        "  Note: It is neccesary to give an access to your google account connected to BigQuery, where your projects are\n",
        "  \"\"\"\n",
        "  from google.colab import auth\n",
        "  auth.authenticate_user()\n",
        "  print('Authenticated')\n",
        "  \n",
        "  from google.cloud import bigquery\n",
        "  client = bigquery.Client(project = project_id)\n",
        "  dataset_ref = client.dataset(database_name, project = project_id)\n",
        "  dataset = client.get_dataset(dataset_ref)\n",
        "  tables = list(client.list_tables(dataset))\n",
        "  print(\"Database Was Succesfully Imported\")\n",
        "\n",
        "  df = client.list_rows(tables[data_frame_index]).to_dataframe()\n",
        "  \n",
        "  return df"
      ],
      "metadata": {
        "id": "1TA202IltT9B"
      },
      "execution_count": 212,
      "outputs": []
    },
    {
      "cell_type": "markdown",
      "source": [
        "Third Step: importing dataframe we need from Google Sheets Note: authentication from your account is required to access files"
      ],
      "metadata": {
        "id": "QJh1hgsotIzZ"
      }
    },
    {
      "cell_type": "code",
      "source": [
        "def import_data_sheets (file_name):\n",
        "  \"\"\"Function that imports a dataframe from a given Google Sheets sheet from the account that is connected\n",
        "  \"\"\"\n",
        "  from google.colab import auth\n",
        "  auth.authenticate_user()\n",
        "\n",
        "  import gspread\n",
        "  from google.auth import default\n",
        "  creds, _ = default()\n",
        "\n",
        "  gc = gspread.authorize(creds)\n",
        "\n",
        "  worksheet = gc.open('Data').sheet1\n",
        "\n",
        "  # get_all_values gives a list of rows.\n",
        "  rows = worksheet.get_all_values()\n",
        "\n",
        "  # Convert to a DataFrame and render.\n",
        "  df = pd.DataFrame.from_records(rows)\n",
        "  \n",
        "  df = df.rename(columns=df.iloc[0]) \n",
        "\n",
        "  # drop first row\n",
        "  df.drop(index=df.index[0], axis=0, inplace=True) \n",
        "  return df"
      ],
      "metadata": {
        "id": "lWaMep4Ysbp5"
      },
      "execution_count": 213,
      "outputs": []
    },
    {
      "cell_type": "code",
      "source": [
        "#df = import_dataframe_bigquery('turing_data_analytics', 2) #I need rfm table which is third from the beggining\n",
        "df = import_data_sheets('Data')\n",
        "df.head()"
      ],
      "metadata": {
        "colab": {
          "base_uri": "https://localhost:8080/",
          "height": 204
        },
        "id": "ddA1wsz72QT6",
        "outputId": "09d031d3-e46b-49bc-c329-5dbe6736e4ff"
      },
      "execution_count": 214,
      "outputs": [
        {
          "output_type": "execute_result",
          "data": {
            "text/plain": [
              "  InvoiceNo StockCode                          Description Quantity  \\\n",
              "1    544612     22053                EMPIRE DESIGN ROSETTE     3906   \n",
              "2    560599     18007  ESSENTIAL BALM 3.5g TIN IN ENVELOPE     3186   \n",
              "3    540815     21108   FAIRY CAKE FLANNEL ASSORTED COLOUR     3114   \n",
              "4    550461     21108   FAIRY CAKE FLANNEL ASSORTED COLOUR     3114   \n",
              "5    560040     23343                  came coded as 20713     3100   \n",
              "\n",
              "  InvoiceDate UnitPrice CustomerID         Country  \n",
              "1    02-22-11      0.82      18087  United Kingdom  \n",
              "2    07-19-11      0.06      14609  United Kingdom  \n",
              "3  01-11-2011       2.1      15749  United Kingdom  \n",
              "4    04-18-11       2.1      15749  United Kingdom  \n",
              "5    07-14-11         0             United Kingdom  "
            ],
            "text/html": [
              "\n",
              "  <div id=\"df-38cacc1e-6f6f-4b77-b221-6979313fc5bf\">\n",
              "    <div class=\"colab-df-container\">\n",
              "      <div>\n",
              "<style scoped>\n",
              "    .dataframe tbody tr th:only-of-type {\n",
              "        vertical-align: middle;\n",
              "    }\n",
              "\n",
              "    .dataframe tbody tr th {\n",
              "        vertical-align: top;\n",
              "    }\n",
              "\n",
              "    .dataframe thead th {\n",
              "        text-align: right;\n",
              "    }\n",
              "</style>\n",
              "<table border=\"1\" class=\"dataframe\">\n",
              "  <thead>\n",
              "    <tr style=\"text-align: right;\">\n",
              "      <th></th>\n",
              "      <th>InvoiceNo</th>\n",
              "      <th>StockCode</th>\n",
              "      <th>Description</th>\n",
              "      <th>Quantity</th>\n",
              "      <th>InvoiceDate</th>\n",
              "      <th>UnitPrice</th>\n",
              "      <th>CustomerID</th>\n",
              "      <th>Country</th>\n",
              "    </tr>\n",
              "  </thead>\n",
              "  <tbody>\n",
              "    <tr>\n",
              "      <th>1</th>\n",
              "      <td>544612</td>\n",
              "      <td>22053</td>\n",
              "      <td>EMPIRE DESIGN ROSETTE</td>\n",
              "      <td>3906</td>\n",
              "      <td>02-22-11</td>\n",
              "      <td>0.82</td>\n",
              "      <td>18087</td>\n",
              "      <td>United Kingdom</td>\n",
              "    </tr>\n",
              "    <tr>\n",
              "      <th>2</th>\n",
              "      <td>560599</td>\n",
              "      <td>18007</td>\n",
              "      <td>ESSENTIAL BALM 3.5g TIN IN ENVELOPE</td>\n",
              "      <td>3186</td>\n",
              "      <td>07-19-11</td>\n",
              "      <td>0.06</td>\n",
              "      <td>14609</td>\n",
              "      <td>United Kingdom</td>\n",
              "    </tr>\n",
              "    <tr>\n",
              "      <th>3</th>\n",
              "      <td>540815</td>\n",
              "      <td>21108</td>\n",
              "      <td>FAIRY CAKE FLANNEL ASSORTED COLOUR</td>\n",
              "      <td>3114</td>\n",
              "      <td>01-11-2011</td>\n",
              "      <td>2.1</td>\n",
              "      <td>15749</td>\n",
              "      <td>United Kingdom</td>\n",
              "    </tr>\n",
              "    <tr>\n",
              "      <th>4</th>\n",
              "      <td>550461</td>\n",
              "      <td>21108</td>\n",
              "      <td>FAIRY CAKE FLANNEL ASSORTED COLOUR</td>\n",
              "      <td>3114</td>\n",
              "      <td>04-18-11</td>\n",
              "      <td>2.1</td>\n",
              "      <td>15749</td>\n",
              "      <td>United Kingdom</td>\n",
              "    </tr>\n",
              "    <tr>\n",
              "      <th>5</th>\n",
              "      <td>560040</td>\n",
              "      <td>23343</td>\n",
              "      <td>came coded as 20713</td>\n",
              "      <td>3100</td>\n",
              "      <td>07-14-11</td>\n",
              "      <td>0</td>\n",
              "      <td></td>\n",
              "      <td>United Kingdom</td>\n",
              "    </tr>\n",
              "  </tbody>\n",
              "</table>\n",
              "</div>\n",
              "      <button class=\"colab-df-convert\" onclick=\"convertToInteractive('df-38cacc1e-6f6f-4b77-b221-6979313fc5bf')\"\n",
              "              title=\"Convert this dataframe to an interactive table.\"\n",
              "              style=\"display:none;\">\n",
              "        \n",
              "  <svg xmlns=\"http://www.w3.org/2000/svg\" height=\"24px\"viewBox=\"0 0 24 24\"\n",
              "       width=\"24px\">\n",
              "    <path d=\"M0 0h24v24H0V0z\" fill=\"none\"/>\n",
              "    <path d=\"M18.56 5.44l.94 2.06.94-2.06 2.06-.94-2.06-.94-.94-2.06-.94 2.06-2.06.94zm-11 1L8.5 8.5l.94-2.06 2.06-.94-2.06-.94L8.5 2.5l-.94 2.06-2.06.94zm10 10l.94 2.06.94-2.06 2.06-.94-2.06-.94-.94-2.06-.94 2.06-2.06.94z\"/><path d=\"M17.41 7.96l-1.37-1.37c-.4-.4-.92-.59-1.43-.59-.52 0-1.04.2-1.43.59L10.3 9.45l-7.72 7.72c-.78.78-.78 2.05 0 2.83L4 21.41c.39.39.9.59 1.41.59.51 0 1.02-.2 1.41-.59l7.78-7.78 2.81-2.81c.8-.78.8-2.07 0-2.86zM5.41 20L4 18.59l7.72-7.72 1.47 1.35L5.41 20z\"/>\n",
              "  </svg>\n",
              "      </button>\n",
              "      \n",
              "  <style>\n",
              "    .colab-df-container {\n",
              "      display:flex;\n",
              "      flex-wrap:wrap;\n",
              "      gap: 12px;\n",
              "    }\n",
              "\n",
              "    .colab-df-convert {\n",
              "      background-color: #E8F0FE;\n",
              "      border: none;\n",
              "      border-radius: 50%;\n",
              "      cursor: pointer;\n",
              "      display: none;\n",
              "      fill: #1967D2;\n",
              "      height: 32px;\n",
              "      padding: 0 0 0 0;\n",
              "      width: 32px;\n",
              "    }\n",
              "\n",
              "    .colab-df-convert:hover {\n",
              "      background-color: #E2EBFA;\n",
              "      box-shadow: 0px 1px 2px rgba(60, 64, 67, 0.3), 0px 1px 3px 1px rgba(60, 64, 67, 0.15);\n",
              "      fill: #174EA6;\n",
              "    }\n",
              "\n",
              "    [theme=dark] .colab-df-convert {\n",
              "      background-color: #3B4455;\n",
              "      fill: #D2E3FC;\n",
              "    }\n",
              "\n",
              "    [theme=dark] .colab-df-convert:hover {\n",
              "      background-color: #434B5C;\n",
              "      box-shadow: 0px 1px 3px 1px rgba(0, 0, 0, 0.15);\n",
              "      filter: drop-shadow(0px 1px 2px rgba(0, 0, 0, 0.3));\n",
              "      fill: #FFFFFF;\n",
              "    }\n",
              "  </style>\n",
              "\n",
              "      <script>\n",
              "        const buttonEl =\n",
              "          document.querySelector('#df-38cacc1e-6f6f-4b77-b221-6979313fc5bf button.colab-df-convert');\n",
              "        buttonEl.style.display =\n",
              "          google.colab.kernel.accessAllowed ? 'block' : 'none';\n",
              "\n",
              "        async function convertToInteractive(key) {\n",
              "          const element = document.querySelector('#df-38cacc1e-6f6f-4b77-b221-6979313fc5bf');\n",
              "          const dataTable =\n",
              "            await google.colab.kernel.invokeFunction('convertToInteractive',\n",
              "                                                     [key], {});\n",
              "          if (!dataTable) return;\n",
              "\n",
              "          const docLinkHtml = 'Like what you see? Visit the ' +\n",
              "            '<a target=\"_blank\" href=https://colab.research.google.com/notebooks/data_table.ipynb>data table notebook</a>'\n",
              "            + ' to learn more about interactive tables.';\n",
              "          element.innerHTML = '';\n",
              "          dataTable['output_type'] = 'display_data';\n",
              "          await google.colab.output.renderOutput(dataTable, element);\n",
              "          const docLink = document.createElement('div');\n",
              "          docLink.innerHTML = docLinkHtml;\n",
              "          element.appendChild(docLink);\n",
              "        }\n",
              "      </script>\n",
              "    </div>\n",
              "  </div>\n",
              "  "
            ]
          },
          "metadata": {},
          "execution_count": 214
        }
      ]
    },
    {
      "cell_type": "markdown",
      "source": [
        "**Fourth Step:** cleaning and preparing data from dataframe for the analysis"
      ],
      "metadata": {
        "id": "K4SJxjUC2VGs"
      }
    },
    {
      "cell_type": "code",
      "source": [
        "def cleaning_for_rfm (df, date_column, quantity_column, unit_price_column, stock_code_column):\n",
        "  \"\"\"This cleaning function is designed for dataframes with particular types of columns like: 'InvoiceDate', 'UnitPrice' and 'Quantity' are necessary\n",
        "  \"\"\"\n",
        "  df = df.drop_duplicates()\n",
        "  df.isnull().sum()\n",
        "  df.dropna(inplace=True)\n",
        "  try: \n",
        "    df[date_column] = pd.to_datetime(df[date_column])\n",
        "    df[unit_price_column] = pd.to_numeric(df[unit_price_column])\n",
        "    df[quantity_column] = pd.to_numeric(df[quantity_column])\n",
        "    df['Total_Price'] = df[unit_price_column]*df[quantity_column]\n",
        "  except: \n",
        "    print('DataFrame doesn\\'t have necessary columns for this analysis')\n",
        "    exit()\n",
        "  try: \n",
        "    df = df[~df[stock_code_column].str.contains('B')]\n",
        "  except: \n",
        "    pass\n",
        "  return df"
      ],
      "metadata": {
        "id": "B8EPM05HyLKW"
      },
      "execution_count": 215,
      "outputs": []
    },
    {
      "cell_type": "code",
      "source": [
        "df = cleaning_for_rfm(df, 'InvoiceDate', 'Quantity', 'UnitPrice', 'StockCode')"
      ],
      "metadata": {
        "id": "rQqOBRMt2nSP"
      },
      "execution_count": 216,
      "outputs": []
    },
    {
      "cell_type": "markdown",
      "source": [
        "**Fifth Step:** assigning values to a new RFM dataframe "
      ],
      "metadata": {
        "id": "59M9tyhz2rWo"
      }
    },
    {
      "cell_type": "code",
      "source": [
        "def assigning_values(df, seg_map, customerid_column, invoice_date_column, invoice_no_column):\n",
        "  \"\"\"RFM analysis function (scalling from 1 to 4). \n",
        "  Note: Before using it - create a segmentation map using function creating_segments() or use your custom one but with scalling from 1 to 4 and all 3 values\n",
        "  \"\"\"\n",
        "  rfm = df.groupby(customerid_column).agg({invoice_date_column : lambda day : (df[invoice_date_column].max() - day.max()).days, invoice_no_column: lambda num : len(num), 'Total_Price': lambda price : price.sum()})\n",
        "  column_list = ['Recency','Frequency','Monetary']\n",
        "  rfm.columns = column_list\n",
        "  rfm[\"R\"] = pd.qcut(rfm[\"Recency\"],4 ,labels = [4,3,2,1])\n",
        "  rfm[\"F\"] = pd.qcut(rfm[\"Frequency\"],4 ,labels = [1,2,3,4])\n",
        "  rfm[\"M\"] = pd.qcut(rfm[\"Monetary\"],4 ,labels = [1,2,3,4])\n",
        "  rfm[\"RFM\"] = rfm['R'].astype(str) + rfm['F'].astype(str) + rfm[\"M\"].astype(str)\n",
        "  rfm['Segment'] = rfm['R'].astype(str) + rfm['F'].astype(str) + rfm[\"M\"].astype(str)\n",
        "  rfm['Segment'] = rfm['Segment'].replace(seg_map, regex=True)\n",
        "\n",
        "  return rfm"
      ],
      "metadata": {
        "id": "htZTZEJDyOkE"
      },
      "execution_count": 217,
      "outputs": []
    },
    {
      "cell_type": "code",
      "source": [
        "def show_rfm_full_list(rfm):\n",
        "  with pd.option_context('display.max_rows', None,\n",
        "                       'display.max_columns', None,\n",
        "                       'display.precision', 3,\n",
        "                       ):\n",
        "    print(rfm)"
      ],
      "metadata": {
        "id": "5UNVVwgk2Los"
      },
      "execution_count": 218,
      "outputs": []
    },
    {
      "cell_type": "code",
      "source": [
        "rfm = assigning_values(df, seg_map, 'CustomerID', 'InvoiceDate', 'InvoiceNo')"
      ],
      "metadata": {
        "id": "9OWCr7ti232I"
      },
      "execution_count": 219,
      "outputs": []
    },
    {
      "cell_type": "markdown",
      "source": [
        "**Sixth Step:** plotting RFM bubble chart grouped by RFM Segments"
      ],
      "metadata": {
        "id": "UYeY9Zvr259B"
      }
    },
    {
      "cell_type": "code",
      "source": [
        "def plotting_rfm(rfm):\n",
        "  \"\"\"Function that is plotting a bubble chart for RFM analysis using Seaborn Package\n",
        "  \"\"\"\n",
        "  fig = plt.figure(figsize = (14, 8))\n",
        "  bubble_chart = sns.scatterplot(data = rfm.groupby('Segment').mean(), x = \"Recency\", y = \"Frequency\", size = \"Monetary\", hue = \"Segment\", legend = True, sizes=(20, 2000))\n",
        "  bubble_chart.set(title = 'RFM Segmentation')\n",
        "  plt.legend(fontsize='medium', title_fontsize='10')\n",
        "  plt.show()"
      ],
      "metadata": {
        "id": "NxMOjgClySfl"
      },
      "execution_count": 220,
      "outputs": []
    },
    {
      "cell_type": "code",
      "source": [
        "plotting_rfm(rfm)"
      ],
      "metadata": {
        "id": "HtrNf8T63JNW",
        "colab": {
          "base_uri": "https://localhost:8080/",
          "height": 513
        },
        "outputId": "697e43d7-ef31-4a82-f11c-6333f42d6260"
      },
      "execution_count": 221,
      "outputs": [
        {
          "output_type": "display_data",
          "data": {
            "text/plain": [
              "<Figure size 1008x576 with 1 Axes>"
            ],
            "image/png": "[encoded data removed]"
          },
          "metadata": {
            "needs_background": "light"
          }
        }
      ]
    },
    {
      "cell_type": "markdown",
      "source": [
        "**Additional Step:** plotting a bar chart showing the number of invoices by Category and for given range"
      ],
      "metadata": {
        "id": "wM5ooqBS3ZtW"
      }
    },
    {
      "cell_type": "code",
      "source": [
        "def plotting_bar_chart(df, invoice_no_column, category, r_number1, r_number2):\n",
        "  \"\"\"Function that is plotting a bar chart based on category for given range (default category - Country) using Seaborn Package\n",
        "  \"\"\"\n",
        "  invoices = dict()\n",
        "  for number in df[invoice_no_column]:\n",
        "      invoices[number] = invoices.get(number, 0) + 1\n",
        "\n",
        "  df_invoices = pd.DataFrame(invoices.items(), columns=[invoice_no_column, 'Number'])\n",
        "\n",
        "  df_with_category = pd.merge(df_invoices,df[[invoice_no_column,category]], on = invoice_no_column, how = 'inner')\n",
        "\n",
        "  fig = plt.figure(figsize = (8, 8))\n",
        "  bar_chart = sns.countplot(data = df_with_category, x = category, order = df_with_category[category].value_counts().index[r_number1:r_number2])\n",
        "  bar_chart.set(title = 'Orders amount based on ' + category)\n",
        "  #to add values to the bars\n",
        "  for p in bar_chart.patches:\n",
        "    bar_chart.annotate('{:.1f}'.format(p.get_height()), (p.get_x()+0.25, p.get_height()+0.01))\n",
        "  plt.show()"
      ],
      "metadata": {
        "id": "0eVZlygyyWAF"
      },
      "execution_count": 222,
      "outputs": []
    },
    {
      "cell_type": "code",
      "source": [
        "plotting_bar_chart(df,'InvoiceNo','Country', 1, 6)"
      ],
      "metadata": {
        "id": "kl8fqbyz3w3F",
        "colab": {
          "base_uri": "https://localhost:8080/",
          "height": 513
        },
        "outputId": "82d06b03-828d-495d-c83c-a752e0bf985b"
      },
      "execution_count": 223,
      "outputs": [
        {
          "output_type": "display_data",
          "data": {
            "text/plain": [
              "<Figure size 576x576 with 1 Axes>"
            ],
            "image/png": "[encoded data removed]"
          },
          "metadata": {
            "needs_background": "light"
          }
        }
      ]
    },
    {
      "cell_type": "markdown",
      "source": [
        "**Additional Step:** plotting a pie chart compating numbers of orders and returns"
      ],
      "metadata": {
        "id": "pCoKkv8W31yO"
      }
    },
    {
      "cell_type": "code",
      "source": [
        "def plotting_pie_chart(df, invoice_no_column, difference, labels):\n",
        "  \"\"\"This function fits if you have 2 different categories\n",
        "  Note: the difference in InvoiceNo must be in the begining of the name\n",
        "  \"\"\"\n",
        "  variables = [0, 0]\n",
        "  for name in df[invoice_no_column]:\n",
        "    if name.startswith(difference):\n",
        "      variables[0] = variables[0] + 1\n",
        "    else:\n",
        "      variables[1] = variables[1] + 1\n",
        "  \n",
        "  plt.pie(variables, labels = labels, autopct='%.0f%%')\n",
        "  plt.title(\"PieChart : Invoices from United Kingdom comparing to Other Countries\")\n",
        "  plt.show()"
      ],
      "metadata": {
        "id": "V-VcEm7fyZCm"
      },
      "execution_count": 224,
      "outputs": []
    },
    {
      "cell_type": "code",
      "source": [
        "plotting_pie_chart(df, 'Country','United Kingdom', ['United Kingdom', 'Other Countries'])"
      ],
      "metadata": {
        "id": "l1PeFlW44DXe",
        "colab": {
          "base_uri": "https://localhost:8080/",
          "height": 264
        },
        "outputId": "45f2dec7-7e93-4c65-b5c4-092dbd1b1216"
      },
      "execution_count": 225,
      "outputs": [
        {
          "output_type": "display_data",
          "data": {
            "text/plain": [
              "<Figure size 432x288 with 1 Axes>"
            ],
            "image/png": "[encoded data removed]"
          },
          "metadata": {}
        }
      ]
    }
  ],
  "metadata": {
    "colab": {
      "provenance": [],
      "collapsed_sections": [],
      "authorship_tag": "ABX9TyOpm7FdZhUShUkxeqBslEmB",
      "include_colab_link": true
    },
    "kernelspec": {
      "display_name": "Python 3",
      "name": "python3"
    },
    "language_info": {
      "name": "python"
    }
  },
  "nbformat": 4,
  "nbformat_minor": 0
}